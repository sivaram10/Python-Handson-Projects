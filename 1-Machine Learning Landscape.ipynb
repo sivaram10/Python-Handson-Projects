{
 "cells": [
  {
   "cell_type": "markdown",
   "metadata": {},
   "source": [
    "#### *This jupyter notebook is based on Hands-on Machine Learning with Scikit-Learn & Tensorflow book by Aurelien Geron. I developed this notebook for my own learning purpose while studying that book.*"
   ]
  },
  {
   "cell_type": "markdown",
   "metadata": {},
   "source": [
    "### Machine Learning\n",
    "A computer program is said to learn from experience E with respect to some task T and some performance measure P, if its performance on T, as measured by P, improves with experience E. <br />-- *Tom Mitchell, 1997*\n",
    "#### Supervised Learning:\n",
    "In supervised learning, the training data contains the desired solutions called *labels* which are help the algorithm in predicting the test data which doesn't contain the *labels*. <br />**Examples:** <br />Linear Regression <br /> Logistic Regression <br />Decision Trees and Random Forests <br />Support Vector Machines<br />Neural Networks<br />k-Nearest Neighobors\n",
    "#### Reinforcement Learning:\n",
    "The learning system observes the enviroment, selects and performs actions, and get rewards or penalties in return. The learning system itself learns what is the best strategy by itself to get most rewards over time.\n",
    "#### Unsupervised Learning:\n",
    "In unsupervised learning, the training data is not labelled.<br /> **Examples:**<br />\n",
    "* **Clustering**\n",
    "  * k-means\n",
    "  * Hierarchial Cluster Analysis (HCA) \n",
    "  * Expectation Maximization <br />\n",
    "* ** Visualization and dimensional reduction**\n",
    "  * Pricipal Component Analysis (PCA\n",
    "  * Kernel PCA\n",
    "  * Locally-Linear Embedding (LLE)\n",
    "  * t-distributed Stochastic Neighbor Embedding (t-SNE)\n",
    "* ** Association rule Learning**\n",
    "  * Apriori\n",
    "  * Eclat\n",
    "* ** Anomaly detection**"
   ]
  },
  {
   "cell_type": "markdown",
   "metadata": {},
   "source": [
    "#### Batch Learning:\n",
    "In Batch Leaning the system is incapable of learning incrementally and it is usually trained with all the data at once. Whenever new data comes in, the system is again trained with all the old and new incoming data. This is resource intensive and may not be feasible with every situation when we have huge data with billions of records.\n",
    "\n",
    "#### Online Learning:\n",
    "In online learning, the system is trained incrementally with a small batch of training data. The system learns from each batch of training data. The rate at which the system learns is generally controlled by *learning rate*."
   ]
  },
  {
   "cell_type": "markdown",
   "metadata": {},
   "source": [
    "#### Instance Based Learning:\n",
    "In instance based learning, the model learns by heart and then generalizes to new cases using a similarity measure. This means the model sees how closely the new data is related to the old training data that it had already seen. For example, we want to create a spam filter and we trained the model. The model, predicts the new mails by checking how closely the test mail is related to the training data in terms of some similarity measured such as type of words used, number of words used etc.\n",
    "#### Model Based Learning:\n",
    "In model based learning, the model generalizes from a set of examples and then use than model to make predictions. For example, prediciting the yeild of crop from data of different data and places. This is how a typical machine learning project looks like. "
   ]
  },
  {
   "cell_type": "markdown",
   "metadata": {},
   "source": [
    "### Main Challeges of Machine Learning:\n",
    "1. Insufficient quantity of training data."
   ]
  }
 ],
 "metadata": {
  "kernelspec": {
   "display_name": "Python 3",
   "language": "python",
   "name": "python3"
  },
  "language_info": {
   "codemirror_mode": {
    "name": "ipython",
    "version": 3
   },
   "file_extension": ".py",
   "mimetype": "text/x-python",
   "name": "python",
   "nbconvert_exporter": "python",
   "pygments_lexer": "ipython3",
   "version": "3.6.1"
  }
 },
 "nbformat": 4,
 "nbformat_minor": 2
}
